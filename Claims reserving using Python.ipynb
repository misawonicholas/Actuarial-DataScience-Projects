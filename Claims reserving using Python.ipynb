{
 "cells": [
  {
   "cell_type": "markdown",
   "id": "a0445f0d",
   "metadata": {},
   "source": [
    "## 1. Business Problem\n",
    "\n",
    "* Calculate  claims reserve for multiple lines of business.Motor Insurance, Fire Insurance and Micro Insurance"
   ]
  },
  {
   "cell_type": "markdown",
   "id": "5d5606ff",
   "metadata": {},
   "source": [
    "## 2. Data Pre-processing"
   ]
  },
  {
   "cell_type": "code",
   "execution_count": 131,
   "id": "0b9fdbc1",
   "metadata": {},
   "outputs": [],
   "source": [
    "#2.1. Load required libraries\n",
    "import chainladder as cl\n",
    "import numpy as np \n",
    "import matplotlib.pyplot as plt\n",
    "%matplotlib inline\n",
    "\n",
    "import pandas as pd\n",
    "\n",
    "#Ignore warnings\n",
    "import warnings\n",
    "warnings.filterwarnings(\"ignore\") \n",
    "\n",
    "#Global change of number formats by adding a comma and keeping it to two d.p.\n",
    "pd.options.display.float_format = '{:,.0f}'.format"
   ]
  },
  {
   "cell_type": "code",
   "execution_count": 150,
   "id": "add55a71",
   "metadata": {},
   "outputs": [
    {
     "data": {
      "text/html": [
       "<div>\n",
       "<style scoped>\n",
       "    .dataframe tbody tr th:only-of-type {\n",
       "        vertical-align: middle;\n",
       "    }\n",
       "\n",
       "    .dataframe tbody tr th {\n",
       "        vertical-align: top;\n",
       "    }\n",
       "\n",
       "    .dataframe thead th {\n",
       "        text-align: right;\n",
       "    }\n",
       "</style>\n",
       "<table border=\"1\" class=\"dataframe\">\n",
       "  <thead>\n",
       "    <tr style=\"text-align: right;\">\n",
       "      <th></th>\n",
       "      <th>Loss Year</th>\n",
       "      <th>Calendar Year</th>\n",
       "      <th>Paid Amount</th>\n",
       "      <th>Line of Business</th>\n",
       "    </tr>\n",
       "  </thead>\n",
       "  <tbody>\n",
       "    <tr>\n",
       "      <th>0</th>\n",
       "      <td>2018</td>\n",
       "      <td>2018</td>\n",
       "      <td>42977</td>\n",
       "      <td>Motor Insurance</td>\n",
       "    </tr>\n",
       "    <tr>\n",
       "      <th>1</th>\n",
       "      <td>2018</td>\n",
       "      <td>2019</td>\n",
       "      <td>18689</td>\n",
       "      <td>Motor Insurance</td>\n",
       "    </tr>\n",
       "    <tr>\n",
       "      <th>2</th>\n",
       "      <td>2018</td>\n",
       "      <td>2020</td>\n",
       "      <td>5005</td>\n",
       "      <td>Motor Insurance</td>\n",
       "    </tr>\n",
       "    <tr>\n",
       "      <th>3</th>\n",
       "      <td>2018</td>\n",
       "      <td>2021</td>\n",
       "      <td>924</td>\n",
       "      <td>Motor Insurance</td>\n",
       "    </tr>\n",
       "    <tr>\n",
       "      <th>4</th>\n",
       "      <td>2019</td>\n",
       "      <td>2019</td>\n",
       "      <td>53141</td>\n",
       "      <td>Motor Insurance</td>\n",
       "    </tr>\n",
       "  </tbody>\n",
       "</table>\n",
       "</div>"
      ],
      "text/plain": [
       "   Loss Year  Calendar Year  Paid Amount Line of Business\n",
       "0       2018           2018        42977  Motor Insurance\n",
       "1       2018           2019        18689  Motor Insurance\n",
       "2       2018           2020         5005  Motor Insurance\n",
       "3       2018           2021          924  Motor Insurance\n",
       "4       2019           2019        53141  Motor Insurance"
      ]
     },
     "execution_count": 150,
     "metadata": {},
     "output_type": "execute_result"
    }
   ],
   "source": [
    "#2.2. Load and clean data for analysis\n",
    "df = pd.read_excel('claims_data.xlsx')\n",
    "df.head()"
   ]
  },
  {
   "cell_type": "code",
   "execution_count": 151,
   "id": "45aed6b3",
   "metadata": {
    "scrolled": true
   },
   "outputs": [
    {
     "name": "stdout",
     "output_type": "stream",
     "text": [
      "<class 'pandas.core.frame.DataFrame'>\n",
      "RangeIndex: 30 entries, 0 to 29\n",
      "Data columns (total 4 columns):\n",
      " #   Column            Non-Null Count  Dtype \n",
      "---  ------            --------------  ----- \n",
      " 0   Loss Year         30 non-null     int64 \n",
      " 1   Calendar Year     30 non-null     int64 \n",
      " 2   Paid Amount       30 non-null     int64 \n",
      " 3   Line of Business  30 non-null     object\n",
      "dtypes: int64(3), object(1)\n",
      "memory usage: 1.1+ KB\n"
     ]
    }
   ],
   "source": [
    "#2.3 browse through the data\n",
    "df.info()"
   ]
  },
  {
   "cell_type": "code",
   "execution_count": 152,
   "id": "fe664083",
   "metadata": {},
   "outputs": [
    {
     "data": {
      "text/html": [
       "<div>\n",
       "<style scoped>\n",
       "    .dataframe tbody tr th:only-of-type {\n",
       "        vertical-align: middle;\n",
       "    }\n",
       "\n",
       "    .dataframe tbody tr th {\n",
       "        vertical-align: top;\n",
       "    }\n",
       "\n",
       "    .dataframe thead th {\n",
       "        text-align: right;\n",
       "    }\n",
       "</style>\n",
       "<table border=\"1\" class=\"dataframe\">\n",
       "  <thead>\n",
       "    <tr style=\"text-align: right;\">\n",
       "      <th></th>\n",
       "      <th>Loss Year</th>\n",
       "      <th>Calendar Year</th>\n",
       "      <th>Paid Amount</th>\n",
       "    </tr>\n",
       "  </thead>\n",
       "  <tbody>\n",
       "    <tr>\n",
       "      <th>count</th>\n",
       "      <td>30</td>\n",
       "      <td>30</td>\n",
       "      <td>30</td>\n",
       "    </tr>\n",
       "    <tr>\n",
       "      <th>mean</th>\n",
       "      <td>2,019</td>\n",
       "      <td>2,020</td>\n",
       "      <td>31,800</td>\n",
       "    </tr>\n",
       "    <tr>\n",
       "      <th>std</th>\n",
       "      <td>1</td>\n",
       "      <td>1</td>\n",
       "      <td>24,635</td>\n",
       "    </tr>\n",
       "    <tr>\n",
       "      <th>min</th>\n",
       "      <td>2,018</td>\n",
       "      <td>2,018</td>\n",
       "      <td>924</td>\n",
       "    </tr>\n",
       "    <tr>\n",
       "      <th>25%</th>\n",
       "      <td>2,018</td>\n",
       "      <td>2,019</td>\n",
       "      <td>10,150</td>\n",
       "    </tr>\n",
       "    <tr>\n",
       "      <th>50%</th>\n",
       "      <td>2,019</td>\n",
       "      <td>2,020</td>\n",
       "      <td>30,283</td>\n",
       "    </tr>\n",
       "    <tr>\n",
       "      <th>75%</th>\n",
       "      <td>2,020</td>\n",
       "      <td>2,021</td>\n",
       "      <td>52,398</td>\n",
       "    </tr>\n",
       "    <tr>\n",
       "      <th>max</th>\n",
       "      <td>2,021</td>\n",
       "      <td>2,021</td>\n",
       "      <td>79,464</td>\n",
       "    </tr>\n",
       "  </tbody>\n",
       "</table>\n",
       "</div>"
      ],
      "text/plain": [
       "       Loss Year  Calendar Year  Paid Amount\n",
       "count         30             30           30\n",
       "mean       2,019          2,020       31,800\n",
       "std            1              1       24,635\n",
       "min        2,018          2,018          924\n",
       "25%        2,018          2,019       10,150\n",
       "50%        2,019          2,020       30,283\n",
       "75%        2,020          2,021       52,398\n",
       "max        2,021          2,021       79,464"
      ]
     },
     "execution_count": 152,
     "metadata": {},
     "output_type": "execute_result"
    }
   ],
   "source": [
    "df.describe()"
   ]
  },
  {
   "cell_type": "markdown",
   "id": "5763f378",
   "metadata": {},
   "source": [
    "## 3. Feature Engineering"
   ]
  },
  {
   "cell_type": "code",
   "execution_count": 153,
   "id": "a8f53b79",
   "metadata": {
    "scrolled": true
   },
   "outputs": [
    {
     "data": {
      "text/html": [
       "<table border=\"1\" class=\"dataframe\">\n",
       "  <thead>\n",
       "    <tr style=\"text-align: right;\">\n",
       "      <th></th>\n",
       "      <th>Triangle Summary</th>\n",
       "    </tr>\n",
       "  </thead>\n",
       "  <tbody>\n",
       "    <tr>\n",
       "      <th>Valuation:</th>\n",
       "      <td>2021-12</td>\n",
       "    </tr>\n",
       "    <tr>\n",
       "      <th>Grain:</th>\n",
       "      <td>OYDY</td>\n",
       "    </tr>\n",
       "    <tr>\n",
       "      <th>Shape:</th>\n",
       "      <td>(3, 1, 4, 4)</td>\n",
       "    </tr>\n",
       "    <tr>\n",
       "      <th>Index:</th>\n",
       "      <td>[Line of Business]</td>\n",
       "    </tr>\n",
       "    <tr>\n",
       "      <th>Columns:</th>\n",
       "      <td>[Paid Amount]</td>\n",
       "    </tr>\n",
       "  </tbody>\n",
       "</table>"
      ],
      "text/plain": [
       "              Triangle Summary\n",
       "Valuation:             2021-12\n",
       "Grain:                    OYDY\n",
       "Shape:            (3, 1, 4, 4)\n",
       "Index:      [Line of Business]\n",
       "Columns:         [Paid Amount]"
      ]
     },
     "execution_count": 153,
     "metadata": {},
     "output_type": "execute_result"
    }
   ],
   "source": [
    "#3.1. Create triangle object that stores incremental triangles by line of business\n",
    "triangle_df = cl.Triangle(\n",
    "    df,\n",
    "    origin = 'Loss Year',\n",
    "    development = 'Calendar Year',\n",
    "    columns = ['Paid Amount'],\n",
    "    index = ['Line of Business']\n",
    ")\n",
    "\n",
    "triangle_df"
   ]
  },
  {
   "cell_type": "code",
   "execution_count": 154,
   "id": "13652816",
   "metadata": {
    "scrolled": false
   },
   "outputs": [
    {
     "name": "stdout",
     "output_type": "stream",
     "text": [
      "Motor Insurance incremental paid loss triangle:\n"
     ]
    },
    {
     "data": {
      "text/html": [
       "<table border=\"1\" class=\"dataframe\">\n",
       "  <thead>\n",
       "    <tr style=\"text-align: right;\">\n",
       "      <th></th>\n",
       "      <th>12</th>\n",
       "      <th>24</th>\n",
       "      <th>36</th>\n",
       "      <th>48</th>\n",
       "    </tr>\n",
       "  </thead>\n",
       "  <tbody>\n",
       "    <tr>\n",
       "      <th>2018</th>\n",
       "      <td>42,977</td>\n",
       "      <td>18,689</td>\n",
       "      <td>5,005</td>\n",
       "      <td>924</td>\n",
       "    </tr>\n",
       "    <tr>\n",
       "      <th>2019</th>\n",
       "      <td>53,141</td>\n",
       "      <td>27,368</td>\n",
       "      <td>1,661</td>\n",
       "      <td></td>\n",
       "    </tr>\n",
       "    <tr>\n",
       "      <th>2020</th>\n",
       "      <td>66,462</td>\n",
       "      <td>24,640</td>\n",
       "      <td></td>\n",
       "      <td></td>\n",
       "    </tr>\n",
       "    <tr>\n",
       "      <th>2021</th>\n",
       "      <td>77,671</td>\n",
       "      <td></td>\n",
       "      <td></td>\n",
       "      <td></td>\n",
       "    </tr>\n",
       "  </tbody>\n",
       "</table>"
      ],
      "text/plain": [
       "         12     24    36  48\n",
       "2018 42,977 18,689 5,005 924\n",
       "2019 53,141 27,368 1,661 NaN\n",
       "2020 66,462 24,640   NaN NaN\n",
       "2021 77,671    NaN   NaN NaN"
      ]
     },
     "metadata": {},
     "output_type": "display_data"
    },
    {
     "name": "stdout",
     "output_type": "stream",
     "text": [
      "Fire Insurance incremental paid loss triangle:\n"
     ]
    },
    {
     "data": {
      "text/html": [
       "<table border=\"1\" class=\"dataframe\">\n",
       "  <thead>\n",
       "    <tr style=\"text-align: right;\">\n",
       "      <th></th>\n",
       "      <th>12</th>\n",
       "      <th>24</th>\n",
       "      <th>36</th>\n",
       "      <th>48</th>\n",
       "    </tr>\n",
       "  </thead>\n",
       "  <tbody>\n",
       "    <tr>\n",
       "      <th>2018</th>\n",
       "      <td>51,227</td>\n",
       "      <td>37,840</td>\n",
       "      <td>10,241</td>\n",
       "      <td>6,292</td>\n",
       "    </tr>\n",
       "    <tr>\n",
       "      <th>2019</th>\n",
       "      <td>66,979</td>\n",
       "      <td>58,025</td>\n",
       "      <td>15,191</td>\n",
       "      <td></td>\n",
       "    </tr>\n",
       "    <tr>\n",
       "      <th>2020</th>\n",
       "      <td>61,853</td>\n",
       "      <td>52,789</td>\n",
       "      <td></td>\n",
       "      <td></td>\n",
       "    </tr>\n",
       "    <tr>\n",
       "      <th>2021</th>\n",
       "      <td>79,464</td>\n",
       "      <td></td>\n",
       "      <td></td>\n",
       "      <td></td>\n",
       "    </tr>\n",
       "  </tbody>\n",
       "</table>"
      ],
      "text/plain": [
       "         12     24     36    48\n",
       "2018 51,227 37,840 10,241 6,292\n",
       "2019 66,979 58,025 15,191   NaN\n",
       "2020 61,853 52,789    NaN   NaN\n",
       "2021 79,464    NaN    NaN   NaN"
      ]
     },
     "metadata": {},
     "output_type": "display_data"
    },
    {
     "name": "stdout",
     "output_type": "stream",
     "text": [
      "Micro Insurance incremental paid loss triangle:\n"
     ]
    },
    {
     "data": {
      "text/html": [
       "<table border=\"1\" class=\"dataframe\">\n",
       "  <thead>\n",
       "    <tr style=\"text-align: right;\">\n",
       "      <th></th>\n",
       "      <th>12</th>\n",
       "      <th>24</th>\n",
       "      <th>36</th>\n",
       "      <th>48</th>\n",
       "    </tr>\n",
       "  </thead>\n",
       "  <tbody>\n",
       "    <tr>\n",
       "      <th>2018</th>\n",
       "      <td>33,198</td>\n",
       "      <td>10,120</td>\n",
       "      <td>3,014</td>\n",
       "      <td>2,222</td>\n",
       "    </tr>\n",
       "    <tr>\n",
       "      <th>2019</th>\n",
       "      <td>33,924</td>\n",
       "      <td>14,168</td>\n",
       "      <td>17,578</td>\n",
       "      <td></td>\n",
       "    </tr>\n",
       "    <tr>\n",
       "      <th>2020</th>\n",
       "      <td>38,104</td>\n",
       "      <td>4,224</td>\n",
       "      <td></td>\n",
       "      <td></td>\n",
       "    </tr>\n",
       "    <tr>\n",
       "      <th>2021</th>\n",
       "      <td>39,006</td>\n",
       "      <td></td>\n",
       "      <td></td>\n",
       "      <td></td>\n",
       "    </tr>\n",
       "  </tbody>\n",
       "</table>"
      ],
      "text/plain": [
       "         12     24     36    48\n",
       "2018 33,198 10,120  3,014 2,222\n",
       "2019 33,924 14,168 17,578   NaN\n",
       "2020 38,104  4,224    NaN   NaN\n",
       "2021 39,006    NaN    NaN   NaN"
      ]
     },
     "metadata": {},
     "output_type": "display_data"
    }
   ],
   "source": [
    "#3.2. Visualize the incremntal triangles \n",
    "\n",
    "#We shall use LoB and keys throught the rest of these tutorial.\n",
    "LoB = list(df['Line of Business'].unique())\n",
    "keys = LoB\n",
    "\n",
    "incremental_triangle_df = {}\n",
    "\n",
    "for lob in LoB:\n",
    "    incremental_triangle_df[lob] = triangle_df[triangle_df['Line of Business'].isin([lob])]\n",
    "    print( lob +' incremental paid loss triangle:')\n",
    "    display(incremental_triangle_df[lob])"
   ]
  },
  {
   "cell_type": "code",
   "execution_count": 7,
   "id": "0d53c9b7",
   "metadata": {},
   "outputs": [
    {
     "name": "stdout",
     "output_type": "stream",
     "text": [
      "Motor Insurance cumulative paid loss triangle:\n"
     ]
    },
    {
     "data": {
      "text/html": [
       "<table border=\"1\" class=\"dataframe\">\n",
       "  <thead>\n",
       "    <tr style=\"text-align: right;\">\n",
       "      <th></th>\n",
       "      <th>12</th>\n",
       "      <th>24</th>\n",
       "      <th>36</th>\n",
       "      <th>48</th>\n",
       "    </tr>\n",
       "  </thead>\n",
       "  <tbody>\n",
       "    <tr>\n",
       "      <th>2018</th>\n",
       "      <td>42,977</td>\n",
       "      <td>61,666</td>\n",
       "      <td>66,671</td>\n",
       "      <td>67,595</td>\n",
       "    </tr>\n",
       "    <tr>\n",
       "      <th>2019</th>\n",
       "      <td>53,141</td>\n",
       "      <td>80,509</td>\n",
       "      <td>82,170</td>\n",
       "      <td></td>\n",
       "    </tr>\n",
       "    <tr>\n",
       "      <th>2020</th>\n",
       "      <td>66,462</td>\n",
       "      <td>91,102</td>\n",
       "      <td></td>\n",
       "      <td></td>\n",
       "    </tr>\n",
       "    <tr>\n",
       "      <th>2021</th>\n",
       "      <td>77,671</td>\n",
       "      <td></td>\n",
       "      <td></td>\n",
       "      <td></td>\n",
       "    </tr>\n",
       "  </tbody>\n",
       "</table>"
      ],
      "text/plain": [
       "            12        24        36        48\n",
       "2018 42,977.00 61,666.00 66,671.00 67,595.00\n",
       "2019 53,141.00 80,509.00 82,170.00       NaN\n",
       "2020 66,462.00 91,102.00       NaN       NaN\n",
       "2021 77,671.00       NaN       NaN       NaN"
      ]
     },
     "metadata": {},
     "output_type": "display_data"
    },
    {
     "name": "stdout",
     "output_type": "stream",
     "text": [
      "Fire Insurance cumulative paid loss triangle:\n"
     ]
    },
    {
     "data": {
      "text/html": [
       "<table border=\"1\" class=\"dataframe\">\n",
       "  <thead>\n",
       "    <tr style=\"text-align: right;\">\n",
       "      <th></th>\n",
       "      <th>12</th>\n",
       "      <th>24</th>\n",
       "      <th>36</th>\n",
       "      <th>48</th>\n",
       "    </tr>\n",
       "  </thead>\n",
       "  <tbody>\n",
       "    <tr>\n",
       "      <th>2018</th>\n",
       "      <td>51,227</td>\n",
       "      <td>89,067</td>\n",
       "      <td>99,308</td>\n",
       "      <td>105,600</td>\n",
       "    </tr>\n",
       "    <tr>\n",
       "      <th>2019</th>\n",
       "      <td>66,979</td>\n",
       "      <td>125,004</td>\n",
       "      <td>140,195</td>\n",
       "      <td></td>\n",
       "    </tr>\n",
       "    <tr>\n",
       "      <th>2020</th>\n",
       "      <td>61,853</td>\n",
       "      <td>114,642</td>\n",
       "      <td></td>\n",
       "      <td></td>\n",
       "    </tr>\n",
       "    <tr>\n",
       "      <th>2021</th>\n",
       "      <td>79,464</td>\n",
       "      <td></td>\n",
       "      <td></td>\n",
       "      <td></td>\n",
       "    </tr>\n",
       "  </tbody>\n",
       "</table>"
      ],
      "text/plain": [
       "            12         24         36         48\n",
       "2018 51,227.00  89,067.00  99,308.00 105,600.00\n",
       "2019 66,979.00 125,004.00 140,195.00        NaN\n",
       "2020 61,853.00 114,642.00        NaN        NaN\n",
       "2021 79,464.00        NaN        NaN        NaN"
      ]
     },
     "metadata": {},
     "output_type": "display_data"
    },
    {
     "name": "stdout",
     "output_type": "stream",
     "text": [
      "Micro Insurance cumulative paid loss triangle:\n"
     ]
    },
    {
     "data": {
      "text/html": [
       "<table border=\"1\" class=\"dataframe\">\n",
       "  <thead>\n",
       "    <tr style=\"text-align: right;\">\n",
       "      <th></th>\n",
       "      <th>12</th>\n",
       "      <th>24</th>\n",
       "      <th>36</th>\n",
       "      <th>48</th>\n",
       "    </tr>\n",
       "  </thead>\n",
       "  <tbody>\n",
       "    <tr>\n",
       "      <th>2018</th>\n",
       "      <td>33,198</td>\n",
       "      <td>43,318</td>\n",
       "      <td>46,332</td>\n",
       "      <td>48,554</td>\n",
       "    </tr>\n",
       "    <tr>\n",
       "      <th>2019</th>\n",
       "      <td>33,924</td>\n",
       "      <td>48,092</td>\n",
       "      <td>65,670</td>\n",
       "      <td></td>\n",
       "    </tr>\n",
       "    <tr>\n",
       "      <th>2020</th>\n",
       "      <td>38,104</td>\n",
       "      <td>42,328</td>\n",
       "      <td></td>\n",
       "      <td></td>\n",
       "    </tr>\n",
       "    <tr>\n",
       "      <th>2021</th>\n",
       "      <td>39,006</td>\n",
       "      <td></td>\n",
       "      <td></td>\n",
       "      <td></td>\n",
       "    </tr>\n",
       "  </tbody>\n",
       "</table>"
      ],
      "text/plain": [
       "            12        24        36        48\n",
       "2018 33,198.00 43,318.00 46,332.00 48,554.00\n",
       "2019 33,924.00 48,092.00 65,670.00       NaN\n",
       "2020 38,104.00 42,328.00       NaN       NaN\n",
       "2021 39,006.00       NaN       NaN       NaN"
      ]
     },
     "metadata": {},
     "output_type": "display_data"
    }
   ],
   "source": [
    "#3.3. Construct the cumulative development triangles using incr_to_cum()\n",
    "\n",
    "cumulative_triangle_df = {}\n",
    "keys = LoB\n",
    "for lob in LoB:\n",
    "    cumulative_triangle_df[lob] = incremental_triangle_df[lob].incr_to_cum()\n",
    "    print( lob +' cumulative paid loss triangle:')\n",
    "    display(cumulative_triangle_df[lob])"
   ]
  },
  {
   "cell_type": "code",
   "execution_count": 8,
   "id": "1a0d0d5a",
   "metadata": {},
   "outputs": [
    {
     "data": {
      "image/png": "[encoded data removed]",
      "text/plain": [
       "<Figure size 864x360 with 3 Axes>"
      ]
     },
     "metadata": {
      "needs_background": "light"
     },
     "output_type": "display_data"
    }
   ],
   "source": [
    "#3.4. Plot cumulative paid claims triangles\n",
    "\n",
    "fig, (ax1,ax2,ax3) = plt.subplots(1, 3,figsize=(12, 5))\n",
    "\n",
    "\n",
    "ax1.plot(cumulative_triangle_df['Motor Insurance'].T,marker='.')\n",
    "ax1.set_title('Motor Insurance')\n",
    "ax1.set_ylabel('Cumulative Paid Loss')\n",
    "ax1.set_xlabel('Development Period')\n",
    "ax1.set_ylim(0, 150000)\n",
    "ax1.legend(cumulative_triangle_df['Motor Insurance'].T.columns)\n",
    "ax1.grid()\n",
    "\n",
    "\n",
    "ax2.set_title('Fire Insurance')\n",
    "ax2.plot(cumulative_triangle_df['Fire Insurance'].T,marker='.')\n",
    "ax2.set_ylabel('Cumulative Paid Loss')\n",
    "ax2.set_xlabel('Development Period')\n",
    "ax2.set_ylim(0, 150000)\n",
    "ax2.legend(cumulative_triangle_df['Fire Insurance'].T.columns)\n",
    "ax2.grid()\n",
    "\n",
    "\n",
    "ax3.set_title('Micro Insurance')\n",
    "ax3.plot(cumulative_triangle_df['Micro Insurance'].T,marker='.')\n",
    "ax3.set_ylabel('Cumulative Paid Loss')\n",
    "ax3.set_xlabel('Development Period')\n",
    "ax3.set_ylim(0, 150000)\n",
    "ax3.legend(cumulative_triangle_df['Micro Insurance'].T.columns)\n",
    "ax3.grid()\n",
    "\n",
    "\n",
    "plt.tight_layout(pad=1.0, w_pad=1.0, h_pad=1.0)"
   ]
  },
  {
   "cell_type": "code",
   "execution_count": 155,
   "id": "6fff0da6",
   "metadata": {},
   "outputs": [
    {
     "name": "stdout",
     "output_type": "stream",
     "text": [
      "Motor Insurance age-to-age factors:\n"
     ]
    },
    {
     "data": {
      "text/html": [
       "<style type=\"text/css\">\n",
       "#T_3561e_row0_col0 {\n",
       "  background-color: #fb7c5c;\n",
       "  color: #f1f1f1;\n",
       "}\n",
       "#T_3561e_row0_col1, #T_3561e_row1_col0 {\n",
       "  background-color: #67000d;\n",
       "  color: #f1f1f1;\n",
       "}\n",
       "#T_3561e_row0_col2, #T_3561e_row1_col1, #T_3561e_row1_col2, #T_3561e_row2_col0, #T_3561e_row2_col2 {\n",
       "  background-color: #fff5f0;\n",
       "  color: #000000;\n",
       "}\n",
       "#T_3561e_row2_col1 {\n",
       "  background-color: #000000;\n",
       "  color: #f1f1f1;\n",
       "}\n",
       "</style>\n",
       "<table id=\"T_3561e_\">\n",
       "  <thead>\n",
       "    <tr>\n",
       "      <th class=\"blank level0\" >&nbsp;</th>\n",
       "      <th class=\"col_heading level0 col0\" >12-24</th>\n",
       "      <th class=\"col_heading level0 col1\" >24-36</th>\n",
       "      <th class=\"col_heading level0 col2\" >36-48</th>\n",
       "    </tr>\n",
       "  </thead>\n",
       "  <tbody>\n",
       "    <tr>\n",
       "      <th id=\"T_3561e_level0_row0\" class=\"row_heading level0 row0\" >2018</th>\n",
       "      <td id=\"T_3561e_row0_col0\" class=\"data row0 col0\" >1.4349</td>\n",
       "      <td id=\"T_3561e_row0_col1\" class=\"data row0 col1\" >1.0812</td>\n",
       "      <td id=\"T_3561e_row0_col2\" class=\"data row0 col2\" >1.0139</td>\n",
       "    </tr>\n",
       "    <tr>\n",
       "      <th id=\"T_3561e_level0_row1\" class=\"row_heading level0 row1\" >2019</th>\n",
       "      <td id=\"T_3561e_row1_col0\" class=\"data row1 col0\" >1.5150</td>\n",
       "      <td id=\"T_3561e_row1_col1\" class=\"data row1 col1\" >1.0206</td>\n",
       "      <td></td>\n",
       "    </tr>\n",
       "    <tr>\n",
       "      <th id=\"T_3561e_level0_row2\" class=\"row_heading level0 row2\" >2020</th>\n",
       "      <td id=\"T_3561e_row2_col0\" class=\"data row2 col0\" >1.3707</td>\n",
       "      <td></td>\n",
       "      <td></td>\n",
       "    </tr>\n",
       "  </tbody>\n",
       "</table>\n"
      ],
      "text/plain": [
       "<IPython.core.display.HTML object>"
      ]
     },
     "metadata": {},
     "output_type": "display_data"
    },
    {
     "name": "stdout",
     "output_type": "stream",
     "text": [
      "Fire Insurance age-to-age factors:\n"
     ]
    },
    {
     "data": {
      "text/html": [
       "<style type=\"text/css\">\n",
       "#T_525be_row0_col0, #T_525be_row0_col1, #T_525be_row0_col2, #T_525be_row1_col2, #T_525be_row2_col2 {\n",
       "  background-color: #fff5f0;\n",
       "  color: #000000;\n",
       "}\n",
       "#T_525be_row1_col0, #T_525be_row1_col1 {\n",
       "  background-color: #67000d;\n",
       "  color: #f1f1f1;\n",
       "}\n",
       "#T_525be_row2_col0 {\n",
       "  background-color: #980c13;\n",
       "  color: #f1f1f1;\n",
       "}\n",
       "#T_525be_row2_col1 {\n",
       "  background-color: #000000;\n",
       "  color: #f1f1f1;\n",
       "}\n",
       "</style>\n",
       "<table id=\"T_525be_\">\n",
       "  <thead>\n",
       "    <tr>\n",
       "      <th class=\"blank level0\" >&nbsp;</th>\n",
       "      <th class=\"col_heading level0 col0\" >12-24</th>\n",
       "      <th class=\"col_heading level0 col1\" >24-36</th>\n",
       "      <th class=\"col_heading level0 col2\" >36-48</th>\n",
       "    </tr>\n",
       "  </thead>\n",
       "  <tbody>\n",
       "    <tr>\n",
       "      <th id=\"T_525be_level0_row0\" class=\"row_heading level0 row0\" >2018</th>\n",
       "      <td id=\"T_525be_row0_col0\" class=\"data row0 col0\" >1.7387</td>\n",
       "      <td id=\"T_525be_row0_col1\" class=\"data row0 col1\" >1.1150</td>\n",
       "      <td id=\"T_525be_row0_col2\" class=\"data row0 col2\" >1.0634</td>\n",
       "    </tr>\n",
       "    <tr>\n",
       "      <th id=\"T_525be_level0_row1\" class=\"row_heading level0 row1\" >2019</th>\n",
       "      <td id=\"T_525be_row1_col0\" class=\"data row1 col0\" >1.8663</td>\n",
       "      <td id=\"T_525be_row1_col1\" class=\"data row1 col1\" >1.1215</td>\n",
       "      <td></td>\n",
       "    </tr>\n",
       "    <tr>\n",
       "      <th id=\"T_525be_level0_row2\" class=\"row_heading level0 row2\" >2020</th>\n",
       "      <td id=\"T_525be_row2_col0\" class=\"data row2 col0\" >1.8535</td>\n",
       "      <td></td>\n",
       "      <td></td>\n",
       "    </tr>\n",
       "  </tbody>\n",
       "</table>\n"
      ],
      "text/plain": [
       "<IPython.core.display.HTML object>"
      ]
     },
     "metadata": {},
     "output_type": "display_data"
    },
    {
     "name": "stdout",
     "output_type": "stream",
     "text": [
      "Micro Insurance age-to-age factors:\n"
     ]
    },
    {
     "data": {
      "text/html": [
       "<style type=\"text/css\">\n",
       "#T_687e9_row0_col0 {\n",
       "  background-color: #ed392b;\n",
       "  color: #f1f1f1;\n",
       "}\n",
       "#T_687e9_row0_col1, #T_687e9_row0_col2, #T_687e9_row1_col2, #T_687e9_row2_col0, #T_687e9_row2_col2 {\n",
       "  background-color: #fff5f0;\n",
       "  color: #000000;\n",
       "}\n",
       "#T_687e9_row1_col0, #T_687e9_row1_col1 {\n",
       "  background-color: #67000d;\n",
       "  color: #f1f1f1;\n",
       "}\n",
       "#T_687e9_row2_col1 {\n",
       "  background-color: #000000;\n",
       "  color: #f1f1f1;\n",
       "}\n",
       "</style>\n",
       "<table id=\"T_687e9_\">\n",
       "  <thead>\n",
       "    <tr>\n",
       "      <th class=\"blank level0\" >&nbsp;</th>\n",
       "      <th class=\"col_heading level0 col0\" >12-24</th>\n",
       "      <th class=\"col_heading level0 col1\" >24-36</th>\n",
       "      <th class=\"col_heading level0 col2\" >36-48</th>\n",
       "    </tr>\n",
       "  </thead>\n",
       "  <tbody>\n",
       "    <tr>\n",
       "      <th id=\"T_687e9_level0_row0\" class=\"row_heading level0 row0\" >2018</th>\n",
       "      <td id=\"T_687e9_row0_col0\" class=\"data row0 col0\" >1.3048</td>\n",
       "      <td id=\"T_687e9_row0_col1\" class=\"data row0 col1\" >1.0696</td>\n",
       "      <td id=\"T_687e9_row0_col2\" class=\"data row0 col2\" >1.0480</td>\n",
       "    </tr>\n",
       "    <tr>\n",
       "      <th id=\"T_687e9_level0_row1\" class=\"row_heading level0 row1\" >2019</th>\n",
       "      <td id=\"T_687e9_row1_col0\" class=\"data row1 col0\" >1.4176</td>\n",
       "      <td id=\"T_687e9_row1_col1\" class=\"data row1 col1\" >1.3655</td>\n",
       "      <td></td>\n",
       "    </tr>\n",
       "    <tr>\n",
       "      <th id=\"T_687e9_level0_row2\" class=\"row_heading level0 row2\" >2020</th>\n",
       "      <td id=\"T_687e9_row2_col0\" class=\"data row2 col0\" >1.1109</td>\n",
       "      <td></td>\n",
       "      <td></td>\n",
       "    </tr>\n",
       "  </tbody>\n",
       "</table>\n"
      ],
      "text/plain": [
       "<IPython.core.display.HTML object>"
      ]
     },
     "metadata": {},
     "output_type": "display_data"
    }
   ],
   "source": [
    "#3.5 Explore the Link ratios before adjusment of development factors\n",
    "for lob in LoB:\n",
    "    print( lob +' age-to-age factors:')\n",
    "    display(cumulative_triangle_df[lob].link_ratio.heatmap(cmap='Reds'))"
   ]
  },
  {
   "cell_type": "markdown",
   "id": "bf7f554b",
   "metadata": {},
   "source": [
    "## 4. Actuarial Modeling"
   ]
  },
  {
   "cell_type": "code",
   "execution_count": 157,
   "id": "98605913",
   "metadata": {},
   "outputs": [
    {
     "name": "stdout",
     "output_type": "stream",
     "text": [
      "Motor Insurance calendar year effect test:\n"
     ]
    },
    {
     "data": {
      "text/html": [
       "<table border=\"1\" class=\"dataframe\">\n",
       "  <thead>\n",
       "    <tr style=\"text-align: right;\">\n",
       "      <th></th>\n",
       "      <th>2019</th>\n",
       "      <th>2020</th>\n",
       "      <th>2021</th>\n",
       "    </tr>\n",
       "  </thead>\n",
       "  <tbody>\n",
       "    <tr>\n",
       "      <th>2018</th>\n",
       "      <td>False</td>\n",
       "      <td>False</td>\n",
       "      <td>False</td>\n",
       "    </tr>\n",
       "  </tbody>\n",
       "</table>"
      ],
      "text/plain": [
       "       2019   2020   2021\n",
       "2018  False  False  False"
      ]
     },
     "metadata": {},
     "output_type": "display_data"
    },
    {
     "name": "stdout",
     "output_type": "stream",
     "text": [
      "Fire Insurance calendar year effect test:\n"
     ]
    },
    {
     "data": {
      "text/html": [
       "<table border=\"1\" class=\"dataframe\">\n",
       "  <thead>\n",
       "    <tr style=\"text-align: right;\">\n",
       "      <th></th>\n",
       "      <th>2019</th>\n",
       "      <th>2020</th>\n",
       "      <th>2021</th>\n",
       "    </tr>\n",
       "  </thead>\n",
       "  <tbody>\n",
       "    <tr>\n",
       "      <th>2018</th>\n",
       "      <td>False</td>\n",
       "      <td>False</td>\n",
       "      <td>False</td>\n",
       "    </tr>\n",
       "  </tbody>\n",
       "</table>"
      ],
      "text/plain": [
       "       2019   2020   2021\n",
       "2018  False  False  False"
      ]
     },
     "metadata": {},
     "output_type": "display_data"
    },
    {
     "name": "stdout",
     "output_type": "stream",
     "text": [
      "Micro Insurance calendar year effect test:\n"
     ]
    },
    {
     "data": {
      "text/html": [
       "<table border=\"1\" class=\"dataframe\">\n",
       "  <thead>\n",
       "    <tr style=\"text-align: right;\">\n",
       "      <th></th>\n",
       "      <th>2019</th>\n",
       "      <th>2020</th>\n",
       "      <th>2021</th>\n",
       "    </tr>\n",
       "  </thead>\n",
       "  <tbody>\n",
       "    <tr>\n",
       "      <th>2018</th>\n",
       "      <td>False</td>\n",
       "      <td>False</td>\n",
       "      <td>False</td>\n",
       "    </tr>\n",
       "  </tbody>\n",
       "</table>"
      ],
      "text/plain": [
       "       2019   2020   2021\n",
       "2018  False  False  False"
      ]
     },
     "metadata": {},
     "output_type": "display_data"
    },
    {
     "name": "stdout",
     "output_type": "stream",
     "text": [
      "Motor Insurance development factors test:\n"
     ]
    },
    {
     "data": {
      "text/html": [
       "<div>\n",
       "<style scoped>\n",
       "    .dataframe tbody tr th:only-of-type {\n",
       "        vertical-align: middle;\n",
       "    }\n",
       "\n",
       "    .dataframe tbody tr th {\n",
       "        vertical-align: top;\n",
       "    }\n",
       "\n",
       "    .dataframe thead th {\n",
       "        text-align: right;\n",
       "    }\n",
       "</style>\n",
       "<table border=\"1\" class=\"dataframe\">\n",
       "  <thead>\n",
       "    <tr style=\"text-align: right;\">\n",
       "      <th></th>\n",
       "      <th>Paid Amount</th>\n",
       "    </tr>\n",
       "    <tr>\n",
       "      <th>LoB</th>\n",
       "      <th></th>\n",
       "    </tr>\n",
       "  </thead>\n",
       "  <tbody>\n",
       "    <tr>\n",
       "      <th>Motor Insurance</th>\n",
       "      <td>False</td>\n",
       "    </tr>\n",
       "  </tbody>\n",
       "</table>\n",
       "</div>"
      ],
      "text/plain": [
       "                 Paid Amount\n",
       "LoB                         \n",
       "Motor Insurance        False"
      ]
     },
     "metadata": {},
     "output_type": "display_data"
    },
    {
     "name": "stdout",
     "output_type": "stream",
     "text": [
      "Fire Insurance development factors test:\n"
     ]
    },
    {
     "data": {
      "text/html": [
       "<div>\n",
       "<style scoped>\n",
       "    .dataframe tbody tr th:only-of-type {\n",
       "        vertical-align: middle;\n",
       "    }\n",
       "\n",
       "    .dataframe tbody tr th {\n",
       "        vertical-align: top;\n",
       "    }\n",
       "\n",
       "    .dataframe thead th {\n",
       "        text-align: right;\n",
       "    }\n",
       "</style>\n",
       "<table border=\"1\" class=\"dataframe\">\n",
       "  <thead>\n",
       "    <tr style=\"text-align: right;\">\n",
       "      <th></th>\n",
       "      <th>Paid Amount</th>\n",
       "    </tr>\n",
       "    <tr>\n",
       "      <th>LoB</th>\n",
       "      <th></th>\n",
       "    </tr>\n",
       "  </thead>\n",
       "  <tbody>\n",
       "    <tr>\n",
       "      <th>Fire Insurance</th>\n",
       "      <td>False</td>\n",
       "    </tr>\n",
       "  </tbody>\n",
       "</table>\n",
       "</div>"
      ],
      "text/plain": [
       "                Paid Amount\n",
       "LoB                        \n",
       "Fire Insurance        False"
      ]
     },
     "metadata": {},
     "output_type": "display_data"
    },
    {
     "name": "stdout",
     "output_type": "stream",
     "text": [
      "Micro Insurance development factors test:\n"
     ]
    },
    {
     "data": {
      "text/html": [
       "<div>\n",
       "<style scoped>\n",
       "    .dataframe tbody tr th:only-of-type {\n",
       "        vertical-align: middle;\n",
       "    }\n",
       "\n",
       "    .dataframe tbody tr th {\n",
       "        vertical-align: top;\n",
       "    }\n",
       "\n",
       "    .dataframe thead th {\n",
       "        text-align: right;\n",
       "    }\n",
       "</style>\n",
       "<table border=\"1\" class=\"dataframe\">\n",
       "  <thead>\n",
       "    <tr style=\"text-align: right;\">\n",
       "      <th></th>\n",
       "      <th>Paid Amount</th>\n",
       "    </tr>\n",
       "    <tr>\n",
       "      <th>LoB</th>\n",
       "      <th></th>\n",
       "    </tr>\n",
       "  </thead>\n",
       "  <tbody>\n",
       "    <tr>\n",
       "      <th>Micro Insurance</th>\n",
       "      <td>False</td>\n",
       "    </tr>\n",
       "  </tbody>\n",
       "</table>\n",
       "</div>"
      ],
      "text/plain": [
       "                 Paid Amount\n",
       "LoB                         \n",
       "Micro Insurance        False"
      ]
     },
     "metadata": {},
     "output_type": "display_data"
    }
   ],
   "source": [
    "#4.1. Peform an indepenence test as a suitable check for using the chainladder method\n",
    "# The multiplicative chainladder method is based on the strong assumptions of independence across origin years and across valuation years. Mack developed tests to verify if these assumptions hol\n",
    "# False indicates that correlation between years is not sufficiently large.\n",
    "\n",
    "#Mack's test for the calendar year effect\n",
    "for lob in LoB:\n",
    "    print( lob +' calendar year effect test:')\n",
    "    display(cumulative_triangle_df[lob].valuation_correlation(0.05).z_critical)\n",
    "\n",
    "#Mack's test for correlations between subsequent development factors\n",
    "for lob in LoB:\n",
    "    print( lob +' development factors test:')\n",
    "    display(cumulative_triangle_df[lob].development_correlation(0.05).t_critical)"
   ]
  },
  {
   "cell_type": "code",
   "execution_count": 161,
   "id": "ecaf26db",
   "metadata": {},
   "outputs": [
    {
     "name": "stdout",
     "output_type": "stream",
     "text": [
      "Motor Insurance losses: \n"
     ]
    },
    {
     "data": {
      "text/html": [
       "<div>\n",
       "<style scoped>\n",
       "    .dataframe tbody tr th:only-of-type {\n",
       "        vertical-align: middle;\n",
       "    }\n",
       "\n",
       "    .dataframe tbody tr th {\n",
       "        vertical-align: top;\n",
       "    }\n",
       "\n",
       "    .dataframe thead th {\n",
       "        text-align: right;\n",
       "    }\n",
       "</style>\n",
       "<table border=\"1\" class=\"dataframe\">\n",
       "  <thead>\n",
       "    <tr style=\"text-align: right;\">\n",
       "      <th></th>\n",
       "      <th>12</th>\n",
       "      <th>24</th>\n",
       "      <th>36</th>\n",
       "      <th>48</th>\n",
       "      <th>Ultimate Losses</th>\n",
       "      <th>Claims Reserve</th>\n",
       "    </tr>\n",
       "    <tr>\n",
       "      <th>Loss Year</th>\n",
       "      <th></th>\n",
       "      <th></th>\n",
       "      <th></th>\n",
       "      <th></th>\n",
       "      <th></th>\n",
       "      <th></th>\n",
       "    </tr>\n",
       "  </thead>\n",
       "  <tbody>\n",
       "    <tr>\n",
       "      <th>2018</th>\n",
       "      <td>42,977</td>\n",
       "      <td>61,666</td>\n",
       "      <td>66,671</td>\n",
       "      <td>67,595</td>\n",
       "      <td>67,595</td>\n",
       "      <td></td>\n",
       "    </tr>\n",
       "    <tr>\n",
       "      <th>2019</th>\n",
       "      <td>53,141</td>\n",
       "      <td>80,509</td>\n",
       "      <td>82,170</td>\n",
       "      <td></td>\n",
       "      <td>83,309</td>\n",
       "      <td>1,139</td>\n",
       "    </tr>\n",
       "    <tr>\n",
       "      <th>2020</th>\n",
       "      <td>66,462</td>\n",
       "      <td>91,102</td>\n",
       "      <td></td>\n",
       "      <td></td>\n",
       "      <td>96,695</td>\n",
       "      <td>5,593</td>\n",
       "    </tr>\n",
       "    <tr>\n",
       "      <th>2021</th>\n",
       "      <td>77,671</td>\n",
       "      <td></td>\n",
       "      <td></td>\n",
       "      <td></td>\n",
       "      <td>118,288</td>\n",
       "      <td>40,617</td>\n",
       "    </tr>\n",
       "    <tr>\n",
       "      <th>Total</th>\n",
       "      <td></td>\n",
       "      <td></td>\n",
       "      <td></td>\n",
       "      <td></td>\n",
       "      <td>365,887</td>\n",
       "      <td>47,349</td>\n",
       "    </tr>\n",
       "  </tbody>\n",
       "</table>\n",
       "</div>"
      ],
      "text/plain": [
       "              12     24     36     48  Ultimate Losses Claims Reserve\n",
       "Loss Year                                                            \n",
       "2018      42,977 61,666 66,671 67,595           67,595               \n",
       "2019      53,141 80,509 82,170                  83,309          1,139\n",
       "2020      66,462 91,102                         96,695          5,593\n",
       "2021      77,671                               118,288         40,617\n",
       "Total                                          365,887         47,349"
      ]
     },
     "metadata": {},
     "output_type": "display_data"
    },
    {
     "name": "stdout",
     "output_type": "stream",
     "text": [
      "Fire Insurance losses: \n"
     ]
    },
    {
     "data": {
      "text/html": [
       "<div>\n",
       "<style scoped>\n",
       "    .dataframe tbody tr th:only-of-type {\n",
       "        vertical-align: middle;\n",
       "    }\n",
       "\n",
       "    .dataframe tbody tr th {\n",
       "        vertical-align: top;\n",
       "    }\n",
       "\n",
       "    .dataframe thead th {\n",
       "        text-align: right;\n",
       "    }\n",
       "</style>\n",
       "<table border=\"1\" class=\"dataframe\">\n",
       "  <thead>\n",
       "    <tr style=\"text-align: right;\">\n",
       "      <th></th>\n",
       "      <th>12</th>\n",
       "      <th>24</th>\n",
       "      <th>36</th>\n",
       "      <th>48</th>\n",
       "      <th>Ultimate Losses</th>\n",
       "      <th>Claims Reserve</th>\n",
       "    </tr>\n",
       "    <tr>\n",
       "      <th>Loss Year</th>\n",
       "      <th></th>\n",
       "      <th></th>\n",
       "      <th></th>\n",
       "      <th></th>\n",
       "      <th></th>\n",
       "      <th></th>\n",
       "    </tr>\n",
       "  </thead>\n",
       "  <tbody>\n",
       "    <tr>\n",
       "      <th>2018</th>\n",
       "      <td>51,227</td>\n",
       "      <td>89,067</td>\n",
       "      <td>99,308</td>\n",
       "      <td>105,600</td>\n",
       "      <td>105,600</td>\n",
       "      <td></td>\n",
       "    </tr>\n",
       "    <tr>\n",
       "      <th>2019</th>\n",
       "      <td>66,979</td>\n",
       "      <td>125,004</td>\n",
       "      <td>140,195</td>\n",
       "      <td></td>\n",
       "      <td>149,078</td>\n",
       "      <td>8,883</td>\n",
       "    </tr>\n",
       "    <tr>\n",
       "      <th>2020</th>\n",
       "      <td>61,853</td>\n",
       "      <td>114,642</td>\n",
       "      <td></td>\n",
       "      <td></td>\n",
       "      <td>136,388</td>\n",
       "      <td>21,746</td>\n",
       "    </tr>\n",
       "    <tr>\n",
       "      <th>2021</th>\n",
       "      <td>79,464</td>\n",
       "      <td></td>\n",
       "      <td></td>\n",
       "      <td></td>\n",
       "      <td>172,586</td>\n",
       "      <td>93,122</td>\n",
       "    </tr>\n",
       "    <tr>\n",
       "      <th>Total</th>\n",
       "      <td></td>\n",
       "      <td></td>\n",
       "      <td></td>\n",
       "      <td></td>\n",
       "      <td>563,652</td>\n",
       "      <td>123,751</td>\n",
       "    </tr>\n",
       "  </tbody>\n",
       "</table>\n",
       "</div>"
      ],
      "text/plain": [
       "              12      24      36      48  Ultimate Losses Claims Reserve\n",
       "Loss Year                                                               \n",
       "2018      51,227  89,067  99,308 105,600          105,600               \n",
       "2019      66,979 125,004 140,195                  149,078          8,883\n",
       "2020      61,853 114,642                          136,388         21,746\n",
       "2021      79,464                                  172,586         93,122\n",
       "Total                                             563,652        123,751"
      ]
     },
     "metadata": {},
     "output_type": "display_data"
    },
    {
     "name": "stdout",
     "output_type": "stream",
     "text": [
      "Micro Insurance losses: \n"
     ]
    },
    {
     "data": {
      "text/html": [
       "<div>\n",
       "<style scoped>\n",
       "    .dataframe tbody tr th:only-of-type {\n",
       "        vertical-align: middle;\n",
       "    }\n",
       "\n",
       "    .dataframe tbody tr th {\n",
       "        vertical-align: top;\n",
       "    }\n",
       "\n",
       "    .dataframe thead th {\n",
       "        text-align: right;\n",
       "    }\n",
       "</style>\n",
       "<table border=\"1\" class=\"dataframe\">\n",
       "  <thead>\n",
       "    <tr style=\"text-align: right;\">\n",
       "      <th></th>\n",
       "      <th>12</th>\n",
       "      <th>24</th>\n",
       "      <th>36</th>\n",
       "      <th>48</th>\n",
       "      <th>Ultimate Losses</th>\n",
       "      <th>Claims Reserve</th>\n",
       "    </tr>\n",
       "    <tr>\n",
       "      <th>Loss Year</th>\n",
       "      <th></th>\n",
       "      <th></th>\n",
       "      <th></th>\n",
       "      <th></th>\n",
       "      <th></th>\n",
       "      <th></th>\n",
       "    </tr>\n",
       "  </thead>\n",
       "  <tbody>\n",
       "    <tr>\n",
       "      <th>2018</th>\n",
       "      <td>33,198</td>\n",
       "      <td>43,318</td>\n",
       "      <td>46,332</td>\n",
       "      <td>48,554</td>\n",
       "      <td>48,554</td>\n",
       "      <td></td>\n",
       "    </tr>\n",
       "    <tr>\n",
       "      <th>2019</th>\n",
       "      <td>33,924</td>\n",
       "      <td>48,092</td>\n",
       "      <td>65,670</td>\n",
       "      <td></td>\n",
       "      <td>68,819</td>\n",
       "      <td>3,149</td>\n",
       "    </tr>\n",
       "    <tr>\n",
       "      <th>2020</th>\n",
       "      <td>38,104</td>\n",
       "      <td>42,328</td>\n",
       "      <td></td>\n",
       "      <td></td>\n",
       "      <td>54,351</td>\n",
       "      <td>12,023</td>\n",
       "    </tr>\n",
       "    <tr>\n",
       "      <th>2021</th>\n",
       "      <td>39,006</td>\n",
       "      <td></td>\n",
       "      <td></td>\n",
       "      <td></td>\n",
       "      <td>63,656</td>\n",
       "      <td>24,650</td>\n",
       "    </tr>\n",
       "    <tr>\n",
       "      <th>Total</th>\n",
       "      <td></td>\n",
       "      <td></td>\n",
       "      <td></td>\n",
       "      <td></td>\n",
       "      <td>235,380</td>\n",
       "      <td>39,822</td>\n",
       "    </tr>\n",
       "  </tbody>\n",
       "</table>\n",
       "</div>"
      ],
      "text/plain": [
       "              12     24     36     48  Ultimate Losses Claims Reserve\n",
       "Loss Year                                                            \n",
       "2018      33,198 43,318 46,332 48,554           48,554               \n",
       "2019      33,924 48,092 65,670                  68,819          3,149\n",
       "2020      38,104 42,328                         54,351         12,023\n",
       "2021      39,006                                63,656         24,650\n",
       "Total                                          235,380         39,822"
      ]
     },
     "metadata": {},
     "output_type": "display_data"
    }
   ],
   "source": [
    "#4.2. Apply the basic chain-ladder algorithim to predict claims reserves\n",
    "cum_tri_df= {}\n",
    "ult_df = {}\n",
    "ibnr_df = {}\n",
    "cum_ult_df = {}\n",
    "combined_df = {}\n",
    "\n",
    "for lob in LoB:\n",
    "    print(lob + ' losses: ')  \n",
    "    cum_tri_df[lob] = incremental_triangle_df[lob].incr_to_cum().to_frame()\n",
    "    ult_df[lob] = cl.Chainladder().fit(cumulative_triangle_df[lob]).ultimate_.to_frame()\n",
    "    ibnr_df[lob] = cl.Chainladder().fit(cumulative_triangle_df[lob]).ibnr_.to_frame()\n",
    "    cum_ult_df[lob] = pd.merge(cumulative_tri_df[lob],ult_df[lob], how= 'left',on=[cum_tri_df[lob].index, ult_df[lob].index])\n",
    "    cum_ult_df[lob].drop('key_1',axis=1,inplace=True)\n",
    "    cum_ult_df[lob].rename(columns={'key_0':'Loss Year','2261':'Ultimate Losses'}, inplace=True)\n",
    "    combined_df[lob] = pd.merge(cum_ult_df[lob],ibnr_df[lob],how='left', on=[cum_ult_df[lob]['Loss Year'],ibnr_df[lob].index])\n",
    "    combined_df[lob].drop('key_0',axis=1,inplace=True)\n",
    "    combined_df[lob].drop('key_1',axis=1,inplace=True)\n",
    "    combined_df[lob].rename(columns={'2261':'Claims Reserve'}, inplace=True)\n",
    "    combined_df[lob].set_index('Loss Year',inplace=True)\n",
    "    combined_df[lob].loc[\"Total\"] = combined_df[lob].loc[:,['Ultimate Losses','Claims Reserve']].sum()\n",
    "    display(combined_df[lob].replace(np.nan, \"\"))"
   ]
  },
  {
   "cell_type": "code",
   "execution_count": 162,
   "id": "a50310fb",
   "metadata": {
    "scrolled": true
   },
   "outputs": [
    {
     "data": {
      "text/html": [
       "<div>\n",
       "<style scoped>\n",
       "    .dataframe tbody tr th:only-of-type {\n",
       "        vertical-align: middle;\n",
       "    }\n",
       "\n",
       "    .dataframe tbody tr th {\n",
       "        vertical-align: top;\n",
       "    }\n",
       "\n",
       "    .dataframe thead th {\n",
       "        text-align: right;\n",
       "    }\n",
       "</style>\n",
       "<table border=\"1\" class=\"dataframe\">\n",
       "  <thead>\n",
       "    <tr style=\"text-align: right;\">\n",
       "      <th></th>\n",
       "      <th>Fire Insurance</th>\n",
       "      <th>Micro Insurance</th>\n",
       "      <th>Motor Insurance</th>\n",
       "      <th>Total</th>\n",
       "    </tr>\n",
       "  </thead>\n",
       "  <tbody>\n",
       "    <tr>\n",
       "      <th>Basic Chain-Ladder Method</th>\n",
       "      <td>123,751</td>\n",
       "      <td>39,822</td>\n",
       "      <td>47,349</td>\n",
       "      <td>210,921</td>\n",
       "    </tr>\n",
       "  </tbody>\n",
       "</table>\n",
       "</div>"
      ],
      "text/plain": [
       "                           Fire Insurance  Micro Insurance  Motor Insurance  \\\n",
       "Basic Chain-Ladder Method         123,751           39,822           47,349   \n",
       "\n",
       "                            Total  \n",
       "Basic Chain-Ladder Method 210,921  "
      ]
     },
     "execution_count": 162,
     "metadata": {},
     "output_type": "execute_result"
    }
   ],
   "source": [
    "#4.3. Sumarize claims reserve totals by line of business\n",
    "claims_reserve = {}\n",
    "keys = LoB\n",
    "for lob in LoB:\n",
    "    claims_reserve[lob]=cl.Chainladder().fit(cumulative_triangle_df[lob]).ibnr_.sum()\n",
    "    \n",
    "results = pd.DataFrame.from_records(claims_reserve, index =['Basic Chain-Ladder Method'])\n",
    "results['Total']=results.sum(axis=1)\n",
    "results"
   ]
  }
 ],
 "metadata": {
  "kernelspec": {
   "display_name": "Python 3 (ipykernel)",
   "language": "python",
   "name": "python3"
  },
  "language_info": {
   "codemirror_mode": {
    "name": "ipython",
    "version": 3
   },
   "file_extension": ".py",
   "mimetype": "text/x-python",
   "name": "python",
   "nbconvert_exporter": "python",
   "pygments_lexer": "ipython3",
   "version": "3.9.7"
  }
 },
 "nbformat": 4,
 "nbformat_minor": 5
}
